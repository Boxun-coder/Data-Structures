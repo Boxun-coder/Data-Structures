{
 "cells": [
  {
   "cell_type": "markdown",
   "metadata": {},
   "source": [
    "# Ch. 4\n",
    "## Quick sort"
   ]
  },
  {
   "cell_type": "markdown",
   "metadata": {},
   "source": [
    "## Practice 4.1"
   ]
  },
  {
   "cell_type": "code",
   "execution_count": 53,
   "metadata": {},
   "outputs": [],
   "source": [
    "a = [1,2,3,4,5]"
   ]
  },
  {
   "cell_type": "code",
   "execution_count": 36,
   "metadata": {},
   "outputs": [],
   "source": [
    "def summ(a):\n",
    "    '''\n",
    "    Use recursion to get the summation of a list\n",
    "    '''\n",
    "    result = 0\n",
    "    if len(a)==0:\n",
    "        return 0;\n",
    "    result += a[0] + summ(a[1:])\n",
    "    return result     "
   ]
  },
  {
   "cell_type": "code",
   "execution_count": 37,
   "metadata": {},
   "outputs": [],
   "source": [
    "def length(a):\n",
    "    result = 0\n",
    "    if a==[]:\n",
    "        return 0\n",
    "    else:\n",
    "        result += length(a[1:]) + 1\n",
    "    return result"
   ]
  },
  {
   "cell_type": "code",
   "execution_count": 55,
   "metadata": {},
   "outputs": [
    {
     "name": "stdout",
     "output_type": "stream",
     "text": [
      "15\n",
      "5\n"
     ]
    }
   ],
   "source": [
    "print(summ(a))\n",
    "print(length(a))"
   ]
  },
  {
   "cell_type": "code",
   "execution_count": 64,
   "metadata": {},
   "outputs": [],
   "source": [
    "def maxi(a):\n",
    "    result = a[0]\n",
    "    if(len(a)==1):\n",
    "        return a[0]\n",
    "    else:\n",
    "        if result<maxi(a[1:]):\n",
    "            result = maxi(a[1:])\n",
    "    return result"
   ]
  },
  {
   "cell_type": "code",
   "execution_count": 71,
   "metadata": {},
   "outputs": [
    {
     "name": "stdout",
     "output_type": "stream",
     "text": [
      "19\n"
     ]
    }
   ],
   "source": [
    "a = [1,2,3,4,5,8,19,1,4,2,1]\n",
    "print(maxi(a))"
   ]
  },
  {
   "cell_type": "markdown",
   "metadata": {},
   "source": [
    "## Quick sort"
   ]
  },
  {
   "cell_type": "code",
   "execution_count": 104,
   "metadata": {},
   "outputs": [],
   "source": [
    "def quicksort(array):\n",
    "    if(len(array)<2):\n",
    "        return array\n",
    "    else:\n",
    "        base=array[0]\n",
    "        less = [i for i in array[1:] if i<=base]\n",
    "        #print(less)\n",
    "        greater = [i for i in array[1:] if i>base]\n",
    "        #print(greater)\n",
    "        #print(quicksort(less) + [base] + quicksort(greater))\n",
    "        return quicksort(less) + [base] + quicksort(greater)"
   ]
  },
  {
   "cell_type": "code",
   "execution_count": 112,
   "metadata": {},
   "outputs": [
    {
     "name": "stdout",
     "output_type": "stream",
     "text": [
      "['1', '1', '19', '2', '4', '5', '8', 'asd']\n"
     ]
    }
   ],
   "source": [
    "a = ['asd','5','8','19','1','4','2','1']\n",
    "print(quicksort(a))"
   ]
  },
  {
   "cell_type": "markdown",
   "metadata": {},
   "source": [
    "## Simple Hash Table"
   ]
  },
  {
   "cell_type": "code",
   "execution_count": 136,
   "metadata": {},
   "outputs": [
    {
     "name": "stdout",
     "output_type": "stream",
     "text": [
      "3.3\n",
      "3.3\n",
      "None\n"
     ]
    }
   ],
   "source": [
    "book = {} #Dictionary\n",
    "book[\"Pear\"] = 3.3\n",
    "print(book[\"Pear\"])\n",
    "value = book.get(\"Pear\")\n",
    "print(value)\n",
    "value = book.get(\"Nas\")\n",
    "print(value)"
   ]
  },
  {
   "cell_type": "code",
   "execution_count": 137,
   "metadata": {},
   "outputs": [],
   "source": [
    "def check_voted(name):\n",
    "    if voted.get(name):\n",
    "        print(\"Kick out\")\n",
    "    else:\n",
    "        print(\"Avail\")\n",
    "        voted[name]=True #Add it into Dict"
   ]
  },
  {
   "cell_type": "code",
   "execution_count": 143,
   "metadata": {},
   "outputs": [
    {
     "name": "stdout",
     "output_type": "stream",
     "text": [
      "Avail\n",
      "Kick out\n",
      "Kick out\n"
     ]
    }
   ],
   "source": [
    "voted = {\"Pear\":True}\n",
    "check_voted(\"Apple\")\n",
    "check_voted(\"Pear\")\n",
    "check_voted(\"Apple\")"
   ]
  },
  {
   "cell_type": "markdown",
   "metadata": {},
   "source": [
    "## BFS"
   ]
  },
  {
   "cell_type": "code",
   "execution_count": 165,
   "metadata": {},
   "outputs": [
    {
     "name": "stdout",
     "output_type": "stream",
     "text": [
      "Alice is not Fick\n",
      "Bob is not Fick\n",
      "Calvin is not Fick\n",
      "Dog is not Fick\n",
      "Elvin is not Fick\n",
      "Fick is Fick\n"
     ]
    }
   ],
   "source": [
    "from collections import deque\n",
    "graph = dict()\n",
    "graph[\"you\"] = [\"Alice\",\"Bob\",\"Calvin\"]\n",
    "graph[\"Alice\"] = [\"Dog\",\"Elvin\",\"Fick\"]\n",
    "search_queue = deque()\n",
    "search_queue += graph[\"you\"]\n",
    "while(search_queue):\n",
    "    person = search_queue.popleft()\n",
    "    if(person!=\"Fick\"):\n",
    "        print(person + \" is not Fick\")\n",
    "        if(graph.get(person)):\n",
    "            search_queue+=graph[person]\n",
    "    else:\n",
    "        print(person + \" is Fick\");"
   ]
  },
  {
   "cell_type": "code",
   "execution_count": 167,
   "metadata": {},
   "outputs": [
    {
     "name": "stdout",
     "output_type": "stream",
     "text": [
      "None\n"
     ]
    }
   ],
   "source": [
    "print(graph.get(\"Bob\"))"
   ]
  },
  {
   "cell_type": "markdown",
   "metadata": {},
   "source": [
    "## Dijkstra Algorithm"
   ]
  },
  {
   "cell_type": "code",
   "execution_count": 4,
   "metadata": {},
   "outputs": [],
   "source": [
    "graph={}\n",
    "graph[\"a\"] = {}\n",
    "graph[\"a\"][\"fin\"] = 1\n",
    "graph[\"b\"] = {}\n",
    "graph[\"b\"][\"a\"] = 3\n",
    "graph[\"b\"][\"fin\"] = 5\n",
    "graph[\"fin\"] = {}\n",
    "\n",
    "infinity = float(\"inf\")\n",
    "costs = {}\n",
    "costs[\"a\"] = 6\n",
    "costs[\"b\"] = 2\n",
    "costs[\"fin\"] = infinity\n",
    "\n",
    "parents = {}\n",
    "parents[\"a\"] = \"start\"\n",
    "parents[\"b\"] = \"start\"\n",
    "parents[\"fin\"] = None\n",
    "\n",
    "processed = []"
   ]
  },
  {
   "cell_type": "code",
   "execution_count": 11,
   "metadata": {},
   "outputs": [],
   "source": [
    "def find_lowest_cost(costs):\n",
    "    lowest_cost = float(\"inf\")\n",
    "    lowest_cost_node = None\n",
    "    for node in costs:\n",
    "        cost = costs[node]\n",
    "        if(cost<lowest_cost) and node not in processed:\n",
    "            lowest_cost = cost\n",
    "            lowest_cost_node = node\n",
    "    return lowest_cost_node"
   ]
  },
  {
   "cell_type": "code",
   "execution_count": 12,
   "metadata": {},
   "outputs": [],
   "source": [
    "node = find_lowest_cost(costs)\n",
    "while node is not None:\n",
    "    cost = costs[node]\n",
    "    neighbors = graph[node]\n",
    "    for n in graph[node].keys():\n",
    "        new_cost = cost + neighbors[n]\n",
    "        if costs[n] > new_cost:\n",
    "            costs[n] = new_cost\n",
    "            parents[n] = node\n",
    "    processed.append(node)\n",
    "    node = find_lowest_cost(costs)"
   ]
  },
  {
   "cell_type": "code",
   "execution_count": 14,
   "metadata": {},
   "outputs": [
    {
     "name": "stdout",
     "output_type": "stream",
     "text": [
      "{'a': 5, 'b': 2, 'fin': 6}\n",
      "{'a': 'b', 'b': 'start', 'fin': 'a'}\n"
     ]
    }
   ],
   "source": [
    "print(costs)\n",
    "print(parents)"
   ]
  },
  {
   "cell_type": "markdown",
   "metadata": {},
   "source": []
  }
 ],
 "metadata": {
  "kernelspec": {
   "display_name": "Python 3",
   "language": "python",
   "name": "python3"
  },
  "language_info": {
   "codemirror_mode": {
    "name": "ipython",
    "version": 3
   },
   "file_extension": ".py",
   "mimetype": "text/x-python",
   "name": "python",
   "nbconvert_exporter": "python",
   "pygments_lexer": "ipython3",
   "version": "3.8.0"
  }
 },
 "nbformat": 4,
 "nbformat_minor": 2
}
